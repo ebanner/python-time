{
 "cells": [
  {
   "attachments": {},
   "cell_type": "markdown",
   "id": "a5fed15e-8b8a-4b4a-bb24-ef1b13015db8",
   "metadata": {},
   "source": [
    "# Minutes → Seconds\n",
    "\n",
    "$$\n",
    "x \\ \\text{min} * \\frac{60 \\text{sec}}{1 \\text{min}} \\rightarrow 60x \\ \\text{sec}\n",
    "$$"
   ]
  },
  {
   "cell_type": "code",
   "execution_count": 1,
   "id": "9e69bab3-2720-4083-bcaa-41855a8662a2",
   "metadata": {},
   "outputs": [
    {
     "data": {
      "text/plain": [
       "3600"
      ]
     },
     "execution_count": 1,
     "metadata": {},
     "output_type": "execute_result"
    }
   ],
   "source": [
    "minutes = 60\n",
    "\n",
    "seconds = minutes * 60\n",
    "seconds"
   ]
  },
  {
   "attachments": {},
   "cell_type": "markdown",
   "id": "6ce53116-8dba-4dcc-9147-a5488539d23d",
   "metadata": {},
   "source": [
    "# Seconds to Minutes\n",
    "\n",
    "$$\n",
    "x \\ \\text{sec} * \\frac{1 \\text{min}}{60 \\text{sec}} \\rightarrow \\frac{x}{60} \\ \\text{min}\n",
    "$$"
   ]
  },
  {
   "cell_type": "code",
   "execution_count": 2,
   "id": "9a19020b-0355-45e9-a5fc-af152c74c79f",
   "metadata": {},
   "outputs": [
    {
     "data": {
      "text/plain": [
       "60"
      ]
     },
     "execution_count": 2,
     "metadata": {},
     "output_type": "execute_result"
    }
   ],
   "source": [
    "seconds = 3600\n",
    "\n",
    "minutes = seconds // 60\n",
    "minutes"
   ]
  }
 ],
 "metadata": {
  "kernelspec": {
   "display_name": "Python 3 (ipykernel)",
   "language": "python",
   "name": "python3"
  },
  "language_info": {
   "codemirror_mode": {
    "name": "ipython",
    "version": 3
   },
   "file_extension": ".py",
   "mimetype": "text/x-python",
   "name": "python",
   "nbconvert_exporter": "python",
   "pygments_lexer": "ipython3",
   "version": "3.9.6"
  }
 },
 "nbformat": 4,
 "nbformat_minor": 5
}
